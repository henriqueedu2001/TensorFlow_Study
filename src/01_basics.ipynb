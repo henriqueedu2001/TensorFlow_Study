{
 "cells": [
  {
   "cell_type": "markdown",
   "metadata": {},
   "source": [
    "# TensorFlow"
   ]
  },
  {
   "cell_type": "code",
   "execution_count": 2,
   "metadata": {},
   "outputs": [
    {
     "name": "stderr",
     "output_type": "stream",
     "text": [
      "2023-10-31 11:11:29.884925: I tensorflow/tsl/cuda/cudart_stub.cc:28] Could not find cuda drivers on your machine, GPU will not be used.\n",
      "2023-10-31 11:11:30.406874: I tensorflow/tsl/cuda/cudart_stub.cc:28] Could not find cuda drivers on your machine, GPU will not be used.\n",
      "2023-10-31 11:11:30.409078: I tensorflow/core/platform/cpu_feature_guard.cc:182] This TensorFlow binary is optimized to use available CPU instructions in performance-critical operations.\n",
      "To enable the following instructions: AVX2 FMA, in other operations, rebuild TensorFlow with the appropriate compiler flags.\n",
      "2023-10-31 11:11:32.751863: W tensorflow/compiler/tf2tensorrt/utils/py_utils.cc:38] TF-TRT Warning: Could not find TensorRT\n"
     ]
    }
   ],
   "source": [
    "import tensorflow as tf"
   ]
  },
  {
   "cell_type": "code",
   "execution_count": 3,
   "metadata": {},
   "outputs": [
    {
     "name": "stdout",
     "output_type": "stream",
     "text": [
      "scalar = 6\n",
      "dim = 0\n"
     ]
    }
   ],
   "source": [
    "# scalar creation\n",
    "scalar = tf.constant(6)\n",
    "\n",
    "print(f'scalar = {scalar}\\ndim = {scalar.ndim}')"
   ]
  },
  {
   "cell_type": "code",
   "execution_count": 4,
   "metadata": {},
   "outputs": [
    {
     "name": "stdout",
     "output_type": "stream",
     "text": [
      "vector = [5 7]\n",
      "dim = 1\n"
     ]
    }
   ],
   "source": [
    "# vector creation\n",
    "vector = tf.constant([5, 7])\n",
    "\n",
    "print(f'vector = {vector}\\ndim = {vector.ndim}')"
   ]
  },
  {
   "cell_type": "code",
   "execution_count": 5,
   "metadata": {},
   "outputs": [
    {
     "name": "stdout",
     "output_type": "stream",
     "text": [
      "matrix = [[ 7  5  3]\n",
      " [-2  4  1]\n",
      " [ 0  9  2]]\n",
      "dim = 2\n"
     ]
    }
   ],
   "source": [
    "# matrix creation\n",
    "matrix = tf.constant([\n",
    "    [7, 5, 3],\n",
    "    [-2, 4, 1],\n",
    "    [0, 9, 2]\n",
    "])\n",
    "\n",
    "print(f'matrix = {matrix}\\ndim = {matrix.ndim}')"
   ]
  },
  {
   "cell_type": "code",
   "execution_count": 6,
   "metadata": {},
   "outputs": [
    {
     "name": "stdout",
     "output_type": "stream",
     "text": [
      "tensor = [[[1 2 5]\n",
      "  [3 4 7]]\n",
      "\n",
      " [[1 2 5]\n",
      "  [3 4 7]]\n",
      "\n",
      " [[1 2 5]\n",
      "  [3 4 7]]\n",
      "\n",
      " [[1 2 5]\n",
      "  [3 4 7]]]\n",
      "dim = 3\n"
     ]
    }
   ],
   "source": [
    "# tensor creation\n",
    "tensor_rank3 = tf.constant([\n",
    "    [[1, 2, 5], [3, 4, 7]],\n",
    "    [[1, 2, 5], [3, 4, 7]],\n",
    "    [[1, 2, 5], [3, 4, 7]],\n",
    "    [[1, 2, 5], [3, 4, 7]]\n",
    "])\n",
    "\n",
    "print(f'tensor = {tensor_rank3}\\ndim = {tensor_rank3.ndim}')"
   ]
  },
  {
   "cell_type": "code",
   "execution_count": 7,
   "metadata": {},
   "outputs": [
    {
     "data": {
      "text/plain": [
       "(<tf.Tensor: shape=(3,), dtype=float16, numpy=array([ 2.,  4., -1.], dtype=float16)>,\n",
       " <tf.Tensor: shape=(3,), dtype=float32, numpy=array([ 2.,  4., -1.], dtype=float32)>,\n",
       " <tf.Tensor: shape=(3,), dtype=int32, numpy=array([ 2,  4, -1], dtype=int32)>)"
      ]
     },
     "execution_count": 7,
     "metadata": {},
     "output_type": "execute_result"
    }
   ],
   "source": [
    "# controling dtype\n",
    "\n",
    "# float 16\n",
    "tensor_float16 = tf.constant([2, 4, -1], dtype=tf.float16)\n",
    "\n",
    "# float 32\n",
    "tensor_float32 = tf.constant([2, 4, -1], dtype=tf.float32)\n",
    "\n",
    "# int 32\n",
    "tensor_int32 = tf.constant([2, 4, -1], dtype=tf.int32)\n",
    "\n",
    "tensor_float16, tensor_float32, tensor_int32\n",
    "\n"
   ]
  },
  {
   "cell_type": "code",
   "execution_count": 8,
   "metadata": {},
   "outputs": [
    {
     "data": {
      "text/plain": [
       "<tf.Variable 'Variable:0' shape=(3, 3) dtype=int32, numpy=\n",
       "array([[1, 2, 3],\n",
       "       [4, 5, 6],\n",
       "       [7, 8, 9]], dtype=int32)>"
      ]
     },
     "execution_count": 8,
     "metadata": {},
     "output_type": "execute_result"
    }
   ],
   "source": [
    "# Variable Tensors\n",
    "var_tensor = tf.Variable([\n",
    "    [1, 2, 3],\n",
    "    [4, 5, 6],\n",
    "    [7, 8, 9]\n",
    "])\n",
    "\n",
    "var_tensor"
   ]
  },
  {
   "cell_type": "code",
   "execution_count": 9,
   "metadata": {},
   "outputs": [
    {
     "data": {
      "text/plain": [
       "<tf.Variable 'Variable:0' shape=(3, 3) dtype=int32, numpy=\n",
       "array([[11, 12, 13],\n",
       "       [ 4,  5,  6],\n",
       "       [ 7,  8,  9]], dtype=int32)>"
      ]
     },
     "execution_count": 9,
     "metadata": {},
     "output_type": "execute_result"
    }
   ],
   "source": [
    "# changing the values of the variable tensor\n",
    "var_tensor[0].assign([11, 12, 13])\n",
    "var_tensor"
   ]
  },
  {
   "cell_type": "code",
   "execution_count": 11,
   "metadata": {},
   "outputs": [
    {
     "data": {
      "text/plain": [
       "<tf.Tensor: shape=(3, 2, 4), dtype=float32, numpy=\n",
       "array([[[-0.7565803 , -0.06854702,  0.07595026, -1.2573844 ],\n",
       "        [-0.23193763, -1.8107855 ,  0.09988727, -0.50998646]],\n",
       "\n",
       "       [[-0.7535805 , -0.57166284,  0.1480774 , -0.23362993],\n",
       "        [-0.3522796 ,  0.40621263, -1.0523509 ,  1.2054597 ]],\n",
       "\n",
       "       [[ 1.6874489 , -0.4462975 , -2.3410842 ,  0.99009085],\n",
       "        [-0.0876323 , -0.635568  , -0.6161736 , -1.9441465 ]]],\n",
       "      dtype=float32)>"
      ]
     },
     "execution_count": 11,
     "metadata": {},
     "output_type": "execute_result"
    }
   ],
   "source": [
    "# random tensors\n",
    "\n",
    "rand_tensor = tf.random.Generator.from_seed(42)\n",
    "rand_tensor = rand_tensor.normal(shape=(3, 2, 4))\n",
    "\n",
    "rand_tensor\n"
   ]
  },
  {
   "cell_type": "code",
   "execution_count": 12,
   "metadata": {},
   "outputs": [
    {
     "data": {
      "text/plain": [
       "<tf.Tensor: shape=(3, 3), dtype=int32, numpy=\n",
       "array([[7, 8, 9],\n",
       "       [4, 5, 6],\n",
       "       [1, 2, 3]], dtype=int32)>"
      ]
     },
     "execution_count": 12,
     "metadata": {},
     "output_type": "execute_result"
    }
   ],
   "source": [
    "# shuffle\n",
    "not_shuffled = tf.constant([\n",
    "    [1, 2, 3],\n",
    "    [4, 5, 6],\n",
    "    [7, 8, 9]\n",
    "])\n",
    "\n",
    "shuffled = tf.random.shuffle(not_shuffled, seed=42)\n",
    "shuffled"
   ]
  },
  {
   "cell_type": "code",
   "execution_count": 13,
   "metadata": {},
   "outputs": [
    {
     "data": {
      "text/plain": [
       "(<tf.Tensor: shape=(5, 4), dtype=float32, numpy=\n",
       " array([[0., 0., 0., 0.],\n",
       "        [0., 0., 0., 0.],\n",
       "        [0., 0., 0., 0.],\n",
       "        [0., 0., 0., 0.],\n",
       "        [0., 0., 0., 0.]], dtype=float32)>,\n",
       " <tf.Tensor: shape=(1, 3), dtype=float32, numpy=array([[1., 1., 1.]], dtype=float32)>)"
      ]
     },
     "execution_count": 13,
     "metadata": {},
     "output_type": "execute_result"
    }
   ],
   "source": [
    "# zeros and ones tensors\n",
    "\n",
    "zeros_tensor = tf.zeros(shape=(5,4))\n",
    "ones_tensor = tf.ones(shape=(1, 3))\n",
    "\n",
    "zeros_tensor, ones_tensor"
   ]
  },
  {
   "cell_type": "code",
   "execution_count": 16,
   "metadata": {},
   "outputs": [
    {
     "data": {
      "text/plain": [
       "(array([1, 2, 3]),\n",
       " <tf.Tensor: shape=(3,), dtype=int64, numpy=array([1, 2, 3])>)"
      ]
     },
     "execution_count": 16,
     "metadata": {},
     "output_type": "execute_result"
    }
   ],
   "source": [
    "# converting numpy arrays in to TensorFlow tensors\n",
    "import numpy as np\n",
    "\n",
    "np_array = np.array([1, 2, 3])\n",
    "tf_tensor = tf.constant(np_array, shape=[3])\n",
    "\n",
    "np_array, tf_tensor"
   ]
  }
 ],
 "metadata": {
  "kernelspec": {
   "display_name": "Python 3",
   "language": "python",
   "name": "python3"
  },
  "language_info": {
   "codemirror_mode": {
    "name": "ipython",
    "version": 3
   },
   "file_extension": ".py",
   "mimetype": "text/x-python",
   "name": "python",
   "nbconvert_exporter": "python",
   "pygments_lexer": "ipython3",
   "version": "3.10.12"
  }
 },
 "nbformat": 4,
 "nbformat_minor": 2
}
