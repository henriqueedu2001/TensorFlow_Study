{
 "cells": [
  {
   "cell_type": "markdown",
   "metadata": {},
   "source": [
    "# TensorFlow"
   ]
  },
  {
   "cell_type": "code",
   "execution_count": 16,
   "metadata": {},
   "outputs": [],
   "source": [
    "import tensorflow as tf"
   ]
  },
  {
   "cell_type": "code",
   "execution_count": 17,
   "metadata": {},
   "outputs": [
    {
     "name": "stdout",
     "output_type": "stream",
     "text": [
      "scalar = 6\n",
      "dim = 0\n"
     ]
    }
   ],
   "source": [
    "# scalar creation\n",
    "scalar = tf.constant(6)\n",
    "\n",
    "print(f'scalar = {scalar}\\ndim = {scalar.ndim}')"
   ]
  },
  {
   "cell_type": "code",
   "execution_count": 18,
   "metadata": {},
   "outputs": [
    {
     "name": "stdout",
     "output_type": "stream",
     "text": [
      "vector = [5 7]\n",
      "dim = 1\n"
     ]
    }
   ],
   "source": [
    "# vector creation\n",
    "vector = tf.constant([5, 7])\n",
    "\n",
    "print(f'vector = {vector}\\ndim = {vector.ndim}')"
   ]
  },
  {
   "cell_type": "code",
   "execution_count": 19,
   "metadata": {},
   "outputs": [
    {
     "name": "stdout",
     "output_type": "stream",
     "text": [
      "matrix = [[ 7  5  3]\n",
      " [-2  4  1]\n",
      " [ 0  9  2]]\n",
      "dim = 2\n"
     ]
    }
   ],
   "source": [
    "# matrix creation\n",
    "matrix = tf.constant([\n",
    "    [7, 5, 3],\n",
    "    [-2, 4, 1],\n",
    "    [0, 9, 2]\n",
    "])\n",
    "\n",
    "print(f'matrix = {matrix}\\ndim = {matrix.ndim}')"
   ]
  },
  {
   "cell_type": "code",
   "execution_count": 23,
   "metadata": {},
   "outputs": [],
   "source": [
    "# controling dtype\n",
    "\n",
    "# float 16\n",
    "tensor_float16 = tf.constant([2, 4, -1], dtype=tf.float16)\n",
    "\n",
    "# float 32\n",
    "tensor_float32 = tf.constant([2, 4, -1], dtype=tf.float32)\n",
    "\n",
    "(tensor_float16, tensor_float32)\n",
    "\n"
   ]
  }
 ],
 "metadata": {
  "kernelspec": {
   "display_name": "Python 3",
   "language": "python",
   "name": "python3"
  },
  "language_info": {
   "codemirror_mode": {
    "name": "ipython",
    "version": 3
   },
   "file_extension": ".py",
   "mimetype": "text/x-python",
   "name": "python",
   "nbconvert_exporter": "python",
   "pygments_lexer": "ipython3",
   "version": "3.10.12"
  }
 },
 "nbformat": 4,
 "nbformat_minor": 2
}
